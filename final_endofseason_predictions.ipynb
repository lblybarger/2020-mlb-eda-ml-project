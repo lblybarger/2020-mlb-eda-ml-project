{
  "nbformat": 4,
  "nbformat_minor": 0,
  "metadata": {
    "colab": {
      "name": "predictions_analytics.ipynb",
      "provenance": [],
      "collapsed_sections": [],
      "toc_visible": true
    },
    "kernelspec": {
      "name": "python3",
      "display_name": "Python 3"
    }
  },
  "cells": [
    {
      "cell_type": "markdown",
      "metadata": {
        "id": "XDM7qg_Lv90u",
        "colab_type": "text"
      },
      "source": [
        "## Visualizing and making assumptions on the 2020 predictions made from our models trained on the 2019 data sets"
      ]
    },
    {
      "cell_type": "code",
      "metadata": {
        "id": "DsA--a6Qv4Ga",
        "colab_type": "code",
        "colab": {
          "base_uri": "https://localhost:8080/",
          "height": 74
        },
        "outputId": "22db6d44-4ffd-403f-f006-a319dad7ab68"
      },
      "source": [
        "# Imports\n",
        "import pandas as pd\n",
        "import matplotlib.pyplot as plt\n",
        "import seaborn as sns"
      ],
      "execution_count": null,
      "outputs": [
        {
          "output_type": "stream",
          "text": [
            "/usr/local/lib/python3.6/dist-packages/statsmodels/tools/_testing.py:19: FutureWarning: pandas.util.testing is deprecated. Use the functions in the public API at pandas.testing instead.\n",
            "  import pandas.util.testing as tm\n"
          ],
          "name": "stderr"
        }
      ]
    },
    {
      "cell_type": "code",
      "metadata": {
        "id": "wZMpr2X4wYuc",
        "colab_type": "code",
        "colab": {}
      },
      "source": [
        "# Bringing in the predictions\n",
        "lr_hitting_df = pd.read_csv('lr_hitting_predictions.csv', index_col='Player')\n",
        "ridge_hitting_df = pd.read_csv('ridge_hitting_predictions.csv', index_col='Player')\n",
        "pitching_df = pd.read_csv('pitching_predictions.csv', index_col='Player') "
      ],
      "execution_count": 184,
      "outputs": []
    },
    {
      "cell_type": "code",
      "metadata": {
        "id": "4Yhrbq8Yyb2J",
        "colab_type": "code",
        "colab": {
          "base_uri": "https://localhost:8080/",
          "height": 228
        },
        "outputId": "b37290ab-e6e1-43ae-a62a-d149e181ed96"
      },
      "source": [
        "# LR Hitting\n",
        "lr_hitting_df.head()"
      ],
      "execution_count": null,
      "outputs": [
        {
          "output_type": "execute_result",
          "data": {
            "text/html": [
              "<div>\n",
              "<style scoped>\n",
              "    .dataframe tbody tr th:only-of-type {\n",
              "        vertical-align: middle;\n",
              "    }\n",
              "\n",
              "    .dataframe tbody tr th {\n",
              "        vertical-align: top;\n",
              "    }\n",
              "\n",
              "    .dataframe thead th {\n",
              "        text-align: right;\n",
              "    }\n",
              "</style>\n",
              "<table border=\"1\" class=\"dataframe\">\n",
              "  <thead>\n",
              "    <tr style=\"text-align: right;\">\n",
              "      <th></th>\n",
              "      <th>Test Data</th>\n",
              "      <th>LR Predictions</th>\n",
              "    </tr>\n",
              "    <tr>\n",
              "      <th>Player</th>\n",
              "      <th></th>\n",
              "      <th></th>\n",
              "    </tr>\n",
              "  </thead>\n",
              "  <tbody>\n",
              "    <tr>\n",
              "      <th>Marcus Semien</th>\n",
              "      <td>0.205</td>\n",
              "      <td>0.179911</td>\n",
              "    </tr>\n",
              "    <tr>\n",
              "      <th>Jose Abreu</th>\n",
              "      <td>0.276</td>\n",
              "      <td>0.247535</td>\n",
              "    </tr>\n",
              "    <tr>\n",
              "      <th>Jose Altuve</th>\n",
              "      <td>0.187</td>\n",
              "      <td>0.189176</td>\n",
              "    </tr>\n",
              "    <tr>\n",
              "      <th>Salvador Perez</th>\n",
              "      <td>0.311</td>\n",
              "      <td>0.274311</td>\n",
              "    </tr>\n",
              "    <tr>\n",
              "      <th>Ketel Marte</th>\n",
              "      <td>0.329</td>\n",
              "      <td>0.276391</td>\n",
              "    </tr>\n",
              "  </tbody>\n",
              "</table>\n",
              "</div>"
            ],
            "text/plain": [
              "                Test Data  LR Predictions\n",
              "Player                                   \n",
              "Marcus Semien       0.205        0.179911\n",
              "Jose Abreu          0.276        0.247535\n",
              "Jose Altuve         0.187        0.189176\n",
              "Salvador Perez      0.311        0.274311\n",
              "Ketel Marte         0.329        0.276391"
            ]
          },
          "metadata": {
            "tags": []
          },
          "execution_count": 5
        }
      ]
    },
    {
      "cell_type": "code",
      "metadata": {
        "id": "EnhHQ5xRyhSJ",
        "colab_type": "code",
        "colab": {
          "base_uri": "https://localhost:8080/",
          "height": 228
        },
        "outputId": "baa2beaf-f353-49d7-96c5-f38bd8151010"
      },
      "source": [
        "#Ridge Hitting\n",
        "ridge_hitting_df.head()"
      ],
      "execution_count": null,
      "outputs": [
        {
          "output_type": "execute_result",
          "data": {
            "text/html": [
              "<div>\n",
              "<style scoped>\n",
              "    .dataframe tbody tr th:only-of-type {\n",
              "        vertical-align: middle;\n",
              "    }\n",
              "\n",
              "    .dataframe tbody tr th {\n",
              "        vertical-align: top;\n",
              "    }\n",
              "\n",
              "    .dataframe thead th {\n",
              "        text-align: right;\n",
              "    }\n",
              "</style>\n",
              "<table border=\"1\" class=\"dataframe\">\n",
              "  <thead>\n",
              "    <tr style=\"text-align: right;\">\n",
              "      <th></th>\n",
              "      <th>Test Data</th>\n",
              "      <th>Ridge Predictions</th>\n",
              "    </tr>\n",
              "    <tr>\n",
              "      <th>Player</th>\n",
              "      <th></th>\n",
              "      <th></th>\n",
              "    </tr>\n",
              "  </thead>\n",
              "  <tbody>\n",
              "    <tr>\n",
              "      <th>Marcus Semien</th>\n",
              "      <td>0.205</td>\n",
              "      <td>0.178495</td>\n",
              "    </tr>\n",
              "    <tr>\n",
              "      <th>Jose Abreu</th>\n",
              "      <td>0.276</td>\n",
              "      <td>0.247483</td>\n",
              "    </tr>\n",
              "    <tr>\n",
              "      <th>Jose Altuve</th>\n",
              "      <td>0.187</td>\n",
              "      <td>0.187987</td>\n",
              "    </tr>\n",
              "    <tr>\n",
              "      <th>Salvador Perez</th>\n",
              "      <td>0.311</td>\n",
              "      <td>0.274020</td>\n",
              "    </tr>\n",
              "    <tr>\n",
              "      <th>Ketel Marte</th>\n",
              "      <td>0.329</td>\n",
              "      <td>0.272489</td>\n",
              "    </tr>\n",
              "  </tbody>\n",
              "</table>\n",
              "</div>"
            ],
            "text/plain": [
              "                Test Data  Ridge Predictions\n",
              "Player                                      \n",
              "Marcus Semien       0.205           0.178495\n",
              "Jose Abreu          0.276           0.247483\n",
              "Jose Altuve         0.187           0.187987\n",
              "Salvador Perez      0.311           0.274020\n",
              "Ketel Marte         0.329           0.272489"
            ]
          },
          "metadata": {
            "tags": []
          },
          "execution_count": 6
        }
      ]
    },
    {
      "cell_type": "code",
      "metadata": {
        "id": "aYzhxyMTyp_q",
        "colab_type": "code",
        "colab": {
          "base_uri": "https://localhost:8080/",
          "height": 228
        },
        "outputId": "38c045b5-a4f9-4357-9d30-1dc0d751870a"
      },
      "source": [
        "# Pitching Preds\n",
        "pitching_df.head()"
      ],
      "execution_count": null,
      "outputs": [
        {
          "output_type": "execute_result",
          "data": {
            "text/html": [
              "<div>\n",
              "<style scoped>\n",
              "    .dataframe tbody tr th:only-of-type {\n",
              "        vertical-align: middle;\n",
              "    }\n",
              "\n",
              "    .dataframe tbody tr th {\n",
              "        vertical-align: top;\n",
              "    }\n",
              "\n",
              "    .dataframe thead th {\n",
              "        text-align: right;\n",
              "    }\n",
              "</style>\n",
              "<table border=\"1\" class=\"dataframe\">\n",
              "  <thead>\n",
              "    <tr style=\"text-align: right;\">\n",
              "      <th></th>\n",
              "      <th>Real W</th>\n",
              "      <th>Predicted W</th>\n",
              "    </tr>\n",
              "    <tr>\n",
              "      <th>Player</th>\n",
              "      <th></th>\n",
              "      <th></th>\n",
              "    </tr>\n",
              "  </thead>\n",
              "  <tbody>\n",
              "    <tr>\n",
              "      <th>Dylan Bundy</th>\n",
              "      <td>3</td>\n",
              "      <td>2.073079</td>\n",
              "    </tr>\n",
              "    <tr>\n",
              "      <th>Shane Bieber</th>\n",
              "      <td>3</td>\n",
              "      <td>2.587359</td>\n",
              "    </tr>\n",
              "    <tr>\n",
              "      <th>German Marquez</th>\n",
              "      <td>2</td>\n",
              "      <td>2.004976</td>\n",
              "    </tr>\n",
              "    <tr>\n",
              "      <th>Kyle Freeland</th>\n",
              "      <td>2</td>\n",
              "      <td>1.755144</td>\n",
              "    </tr>\n",
              "    <tr>\n",
              "      <th>Sonny Gray</th>\n",
              "      <td>3</td>\n",
              "      <td>1.903647</td>\n",
              "    </tr>\n",
              "  </tbody>\n",
              "</table>\n",
              "</div>"
            ],
            "text/plain": [
              "                Real W  Predicted W\n",
              "Player                             \n",
              "Dylan Bundy          3     2.073079\n",
              "Shane Bieber         3     2.587359\n",
              "German Marquez       2     2.004976\n",
              "Kyle Freeland        2     1.755144\n",
              "Sonny Gray           3     1.903647"
            ]
          },
          "metadata": {
            "tags": []
          },
          "execution_count": 7
        }
      ]
    },
    {
      "cell_type": "code",
      "metadata": {
        "id": "TqvcUzvlyuce",
        "colab_type": "code",
        "colab": {
          "base_uri": "https://localhost:8080/",
          "height": 393
        },
        "outputId": "44be2624-b526-4980-c4fa-ee682b8f1674"
      },
      "source": [
        "# Plotting out accuracy of pitching predictions\n",
        "plt.figure(figsize=(10,5))\n",
        "plt.title(\"First 10 Real Wins vs Predicted Wins\")\n",
        "plt.plot(pitching_df.index[:10], pitching_df['Real W'][:10], color='b')\n",
        "plt.plot(pitching_df.index[:10], pitching_df['Predicted W'][:10], color='g')\n",
        "plt.xticks(rotation=45)\n",
        "plt.legend(['Real Wins', 'Predicted Wins'])\n",
        "plt.show()"
      ],
      "execution_count": null,
      "outputs": [
        {
          "output_type": "display_data",
          "data": {
            "image/png": "[encoded data removed]",
            "text/plain": [
              "<Figure size 720x360 with 1 Axes>"
            ]
          },
          "metadata": {
            "tags": [],
            "needs_background": "light"
          }
        }
      ]
    },
    {
      "cell_type": "code",
      "metadata": {
        "id": "0ul0893d2aaW",
        "colab_type": "code",
        "colab": {
          "base_uri": "https://localhost:8080/",
          "height": 387
        },
        "outputId": "73a29d81-42c2-44a0-91dc-552e3d680d06"
      },
      "source": [
        "# Plotting out Accuracy of RidgeRegressor Predictions for hitting\n",
        "plt.figure(figsize=(10,5))\n",
        "plt.title(\"First 5 Test Data vs Predicted Batting Average\")\n",
        "plt.plot(ridge_hitting_df.index[:10], ridge_hitting_df['Test Data'][:10], color='b')\n",
        "plt.plot(ridge_hitting_df.index[:10], ridge_hitting_df['Ridge Predictions'][:10], color='g')\n",
        "plt.xticks(rotation=45)\n",
        "plt.legend(['Test Data', 'Ridge Predictions'])\n",
        "plt.show()"
      ],
      "execution_count": null,
      "outputs": [
        {
          "output_type": "display_data",
          "data": {
            "image/png": "[encoded data removed]",
            "text/plain": [
              "<Figure size 720x360 with 1 Axes>"
            ]
          },
          "metadata": {
            "tags": [],
            "needs_background": "light"
          }
        }
      ]
    },
    {
      "cell_type": "code",
      "metadata": {
        "id": "a1qm815w4HJz",
        "colab_type": "code",
        "colab": {
          "base_uri": "https://localhost:8080/",
          "height": 387
        },
        "outputId": "f0ef4968-085d-4bbc-abda-f163ccb2b533"
      },
      "source": [
        "# Plotting out Accuracy of LinearRegressor Predictions for hitting\n",
        "plt.figure(figsize=(10,5))\n",
        "plt.title(\"First 5 Test Data vs Predicted Batting Average\")\n",
        "plt.plot(lr_hitting_df.index[:10], lr_hitting_df['Test Data'][:10], color='b')\n",
        "plt.plot(lr_hitting_df.index[:10], lr_hitting_df['LR Predictions'][:10], color='g')\n",
        "plt.xticks(rotation=45)\n",
        "plt.legend(['Test Data', 'LR Predictions'])\n",
        "plt.show()"
      ],
      "execution_count": null,
      "outputs": [
        {
          "output_type": "display_data",
          "data": {
            "image/png": "[encoded data removed]",
            "text/plain": [
              "<Figure size 720x360 with 1 Axes>"
            ]
          },
          "metadata": {
            "tags": [],
            "needs_background": "light"
          }
        }
      ]
    },
    {
      "cell_type": "code",
      "metadata": {
        "id": "zm0tJ6-bVHwb",
        "colab_type": "code",
        "colab": {}
      },
      "source": [
        "# Calculate xBA based on total 2020 games and number of games played \n",
        "def calc_xba(ba):\n",
        "  if ba < 1.0: \n",
        "    return (ba / 18) * 60 - ba * 2\n",
        "  else:\n",
        "    return ba"
      ],
      "execution_count": 185,
      "outputs": []
    },
    {
      "cell_type": "code",
      "metadata": {
        "id": "qLys-E_rVqi_",
        "colab_type": "code",
        "colab": {}
      },
      "source": [
        "# Apply function from above\n",
        "ridge_hitting_df['xBA'] = ridge_hitting_df['Ridge Predictions'].apply(calc_xba)"
      ],
      "execution_count": 186,
      "outputs": []
    },
    {
      "cell_type": "code",
      "metadata": {
        "id": "F_CgETUJWQqX",
        "colab_type": "code",
        "colab": {
          "base_uri": "https://localhost:8080/",
          "height": 225
        },
        "outputId": "a1405f37-c651-47cc-9f33-d9857dead735"
      },
      "source": [
        "ridge_hitting_df.head()"
      ],
      "execution_count": 187,
      "outputs": [
        {
          "output_type": "execute_result",
          "data": {
            "text/html": [
              "<div>\n",
              "<style scoped>\n",
              "    .dataframe tbody tr th:only-of-type {\n",
              "        vertical-align: middle;\n",
              "    }\n",
              "\n",
              "    .dataframe tbody tr th {\n",
              "        vertical-align: top;\n",
              "    }\n",
              "\n",
              "    .dataframe thead th {\n",
              "        text-align: right;\n",
              "    }\n",
              "</style>\n",
              "<table border=\"1\" class=\"dataframe\">\n",
              "  <thead>\n",
              "    <tr style=\"text-align: right;\">\n",
              "      <th></th>\n",
              "      <th>Test Data</th>\n",
              "      <th>Ridge Predictions</th>\n",
              "      <th>xBA</th>\n",
              "    </tr>\n",
              "    <tr>\n",
              "      <th>Player</th>\n",
              "      <th></th>\n",
              "      <th></th>\n",
              "      <th></th>\n",
              "    </tr>\n",
              "  </thead>\n",
              "  <tbody>\n",
              "    <tr>\n",
              "      <th>Marcus Semien</th>\n",
              "      <td>0.205</td>\n",
              "      <td>0.178495</td>\n",
              "      <td>0.237993</td>\n",
              "    </tr>\n",
              "    <tr>\n",
              "      <th>Jose Abreu</th>\n",
              "      <td>0.276</td>\n",
              "      <td>0.247483</td>\n",
              "      <td>0.329978</td>\n",
              "    </tr>\n",
              "    <tr>\n",
              "      <th>Jose Altuve</th>\n",
              "      <td>0.187</td>\n",
              "      <td>0.187987</td>\n",
              "      <td>0.250649</td>\n",
              "    </tr>\n",
              "    <tr>\n",
              "      <th>Salvador Perez</th>\n",
              "      <td>0.311</td>\n",
              "      <td>0.274020</td>\n",
              "      <td>0.365360</td>\n",
              "    </tr>\n",
              "    <tr>\n",
              "      <th>Ketel Marte</th>\n",
              "      <td>0.329</td>\n",
              "      <td>0.272489</td>\n",
              "      <td>0.363319</td>\n",
              "    </tr>\n",
              "  </tbody>\n",
              "</table>\n",
              "</div>"
            ],
            "text/plain": [
              "                Test Data  Ridge Predictions       xBA\n",
              "Player                                                \n",
              "Marcus Semien       0.205           0.178495  0.237993\n",
              "Jose Abreu          0.276           0.247483  0.329978\n",
              "Jose Altuve         0.187           0.187987  0.250649\n",
              "Salvador Perez      0.311           0.274020  0.365360\n",
              "Ketel Marte         0.329           0.272489  0.363319"
            ]
          },
          "metadata": {
            "tags": []
          },
          "execution_count": 187
        }
      ]
    },
    {
      "cell_type": "code",
      "metadata": {
        "id": "KevK6NfjW9eO",
        "colab_type": "code",
        "colab": {}
      },
      "source": [
        "# Function to calculate Expected Pitcher Wins\n",
        "def calc_xW(w): \n",
        "  if w != 0:\n",
        "    return ((w / 18) * 60) * 2.25\n",
        "  else:\n",
        "    return 0"
      ],
      "execution_count": 188,
      "outputs": []
    },
    {
      "cell_type": "code",
      "metadata": {
        "id": "iWtoYwf0Xjsl",
        "colab_type": "code",
        "colab": {}
      },
      "source": [
        "# Apply function from above\n",
        "pitching_df['xW'] = pitching_df['Real W'].apply(calc_xW)"
      ],
      "execution_count": 189,
      "outputs": []
    },
    {
      "cell_type": "code",
      "metadata": {
        "id": "L3WKsuriX4Dl",
        "colab_type": "code",
        "colab": {
          "base_uri": "https://localhost:8080/",
          "height": 225
        },
        "outputId": "a6f33711-3d3d-4246-8998-8590f3406942"
      },
      "source": [
        "pitching_df.head()"
      ],
      "execution_count": 190,
      "outputs": [
        {
          "output_type": "execute_result",
          "data": {
            "text/html": [
              "<div>\n",
              "<style scoped>\n",
              "    .dataframe tbody tr th:only-of-type {\n",
              "        vertical-align: middle;\n",
              "    }\n",
              "\n",
              "    .dataframe tbody tr th {\n",
              "        vertical-align: top;\n",
              "    }\n",
              "\n",
              "    .dataframe thead th {\n",
              "        text-align: right;\n",
              "    }\n",
              "</style>\n",
              "<table border=\"1\" class=\"dataframe\">\n",
              "  <thead>\n",
              "    <tr style=\"text-align: right;\">\n",
              "      <th></th>\n",
              "      <th>Real W</th>\n",
              "      <th>Predicted W</th>\n",
              "      <th>xW</th>\n",
              "    </tr>\n",
              "    <tr>\n",
              "      <th>Player</th>\n",
              "      <th></th>\n",
              "      <th></th>\n",
              "      <th></th>\n",
              "    </tr>\n",
              "  </thead>\n",
              "  <tbody>\n",
              "    <tr>\n",
              "      <th>Dylan Bundy</th>\n",
              "      <td>3</td>\n",
              "      <td>2.073079</td>\n",
              "      <td>22.5</td>\n",
              "    </tr>\n",
              "    <tr>\n",
              "      <th>Shane Bieber</th>\n",
              "      <td>3</td>\n",
              "      <td>2.587359</td>\n",
              "      <td>22.5</td>\n",
              "    </tr>\n",
              "    <tr>\n",
              "      <th>German Marquez</th>\n",
              "      <td>2</td>\n",
              "      <td>2.004976</td>\n",
              "      <td>15.0</td>\n",
              "    </tr>\n",
              "    <tr>\n",
              "      <th>Kyle Freeland</th>\n",
              "      <td>2</td>\n",
              "      <td>1.755144</td>\n",
              "      <td>15.0</td>\n",
              "    </tr>\n",
              "    <tr>\n",
              "      <th>Sonny Gray</th>\n",
              "      <td>3</td>\n",
              "      <td>1.903647</td>\n",
              "      <td>22.5</td>\n",
              "    </tr>\n",
              "  </tbody>\n",
              "</table>\n",
              "</div>"
            ],
            "text/plain": [
              "                Real W  Predicted W    xW\n",
              "Player                                   \n",
              "Dylan Bundy          3     2.073079  22.5\n",
              "Shane Bieber         3     2.587359  22.5\n",
              "German Marquez       2     2.004976  15.0\n",
              "Kyle Freeland        2     1.755144  15.0\n",
              "Sonny Gray           3     1.903647  22.5"
            ]
          },
          "metadata": {
            "tags": []
          },
          "execution_count": 190
        }
      ]
    },
    {
      "cell_type": "code",
      "metadata": {
        "id": "qjvgbWN_X5mz",
        "colab_type": "code",
        "colab": {}
      },
      "source": [
        "# Rename some columns\n",
        "pitching_df = pitching_df.rename(columns={'Real W':'Current Wins', 'Predicted W':'Predicted Wins', 'xW':'Current Predicted Wins (EOS)'})\n",
        "ridge_hitting_df = ridge_hitting_df.rename(columns={'Test Data':'Current BA', 'Ridge Predictions':'BA Prediction', 'xBA':'Expected BA (EOS)'})"
      ],
      "execution_count": 191,
      "outputs": []
    },
    {
      "cell_type": "code",
      "metadata": {
        "id": "dDqdG4gFYsrE",
        "colab_type": "code",
        "colab": {
          "base_uri": "https://localhost:8080/",
          "height": 225
        },
        "outputId": "ecd07727-a823-4cb8-b088-e35f922d31a9"
      },
      "source": [
        "ridge_hitting_df.head()"
      ],
      "execution_count": 192,
      "outputs": [
        {
          "output_type": "execute_result",
          "data": {
            "text/html": [
              "<div>\n",
              "<style scoped>\n",
              "    .dataframe tbody tr th:only-of-type {\n",
              "        vertical-align: middle;\n",
              "    }\n",
              "\n",
              "    .dataframe tbody tr th {\n",
              "        vertical-align: top;\n",
              "    }\n",
              "\n",
              "    .dataframe thead th {\n",
              "        text-align: right;\n",
              "    }\n",
              "</style>\n",
              "<table border=\"1\" class=\"dataframe\">\n",
              "  <thead>\n",
              "    <tr style=\"text-align: right;\">\n",
              "      <th></th>\n",
              "      <th>Current BA</th>\n",
              "      <th>BA Prediction</th>\n",
              "      <th>Expected BA (EOS)</th>\n",
              "    </tr>\n",
              "    <tr>\n",
              "      <th>Player</th>\n",
              "      <th></th>\n",
              "      <th></th>\n",
              "      <th></th>\n",
              "    </tr>\n",
              "  </thead>\n",
              "  <tbody>\n",
              "    <tr>\n",
              "      <th>Marcus Semien</th>\n",
              "      <td>0.205</td>\n",
              "      <td>0.178495</td>\n",
              "      <td>0.237993</td>\n",
              "    </tr>\n",
              "    <tr>\n",
              "      <th>Jose Abreu</th>\n",
              "      <td>0.276</td>\n",
              "      <td>0.247483</td>\n",
              "      <td>0.329978</td>\n",
              "    </tr>\n",
              "    <tr>\n",
              "      <th>Jose Altuve</th>\n",
              "      <td>0.187</td>\n",
              "      <td>0.187987</td>\n",
              "      <td>0.250649</td>\n",
              "    </tr>\n",
              "    <tr>\n",
              "      <th>Salvador Perez</th>\n",
              "      <td>0.311</td>\n",
              "      <td>0.274020</td>\n",
              "      <td>0.365360</td>\n",
              "    </tr>\n",
              "    <tr>\n",
              "      <th>Ketel Marte</th>\n",
              "      <td>0.329</td>\n",
              "      <td>0.272489</td>\n",
              "      <td>0.363319</td>\n",
              "    </tr>\n",
              "  </tbody>\n",
              "</table>\n",
              "</div>"
            ],
            "text/plain": [
              "                Current BA  BA Prediction  Expected BA (EOS)\n",
              "Player                                                      \n",
              "Marcus Semien        0.205       0.178495           0.237993\n",
              "Jose Abreu           0.276       0.247483           0.329978\n",
              "Jose Altuve          0.187       0.187987           0.250649\n",
              "Salvador Perez       0.311       0.274020           0.365360\n",
              "Ketel Marte          0.329       0.272489           0.363319"
            ]
          },
          "metadata": {
            "tags": []
          },
          "execution_count": 192
        }
      ]
    },
    {
      "cell_type": "code",
      "metadata": {
        "id": "CkLSmn0nYuJx",
        "colab_type": "code",
        "colab": {
          "base_uri": "https://localhost:8080/",
          "height": 225
        },
        "outputId": "b04158d6-4fd7-43c4-ce9c-96028cbcb0db"
      },
      "source": [
        "pitching_df.head()"
      ],
      "execution_count": 193,
      "outputs": [
        {
          "output_type": "execute_result",
          "data": {
            "text/html": [
              "<div>\n",
              "<style scoped>\n",
              "    .dataframe tbody tr th:only-of-type {\n",
              "        vertical-align: middle;\n",
              "    }\n",
              "\n",
              "    .dataframe tbody tr th {\n",
              "        vertical-align: top;\n",
              "    }\n",
              "\n",
              "    .dataframe thead th {\n",
              "        text-align: right;\n",
              "    }\n",
              "</style>\n",
              "<table border=\"1\" class=\"dataframe\">\n",
              "  <thead>\n",
              "    <tr style=\"text-align: right;\">\n",
              "      <th></th>\n",
              "      <th>Current Wins</th>\n",
              "      <th>Predicted Wins</th>\n",
              "      <th>Current Predicted Wins (EOS)</th>\n",
              "    </tr>\n",
              "    <tr>\n",
              "      <th>Player</th>\n",
              "      <th></th>\n",
              "      <th></th>\n",
              "      <th></th>\n",
              "    </tr>\n",
              "  </thead>\n",
              "  <tbody>\n",
              "    <tr>\n",
              "      <th>Dylan Bundy</th>\n",
              "      <td>3</td>\n",
              "      <td>2.073079</td>\n",
              "      <td>22.5</td>\n",
              "    </tr>\n",
              "    <tr>\n",
              "      <th>Shane Bieber</th>\n",
              "      <td>3</td>\n",
              "      <td>2.587359</td>\n",
              "      <td>22.5</td>\n",
              "    </tr>\n",
              "    <tr>\n",
              "      <th>German Marquez</th>\n",
              "      <td>2</td>\n",
              "      <td>2.004976</td>\n",
              "      <td>15.0</td>\n",
              "    </tr>\n",
              "    <tr>\n",
              "      <th>Kyle Freeland</th>\n",
              "      <td>2</td>\n",
              "      <td>1.755144</td>\n",
              "      <td>15.0</td>\n",
              "    </tr>\n",
              "    <tr>\n",
              "      <th>Sonny Gray</th>\n",
              "      <td>3</td>\n",
              "      <td>1.903647</td>\n",
              "      <td>22.5</td>\n",
              "    </tr>\n",
              "  </tbody>\n",
              "</table>\n",
              "</div>"
            ],
            "text/plain": [
              "                Current Wins  Predicted Wins  Current Predicted Wins (EOS)\n",
              "Player                                                                    \n",
              "Dylan Bundy                3        2.073079                          22.5\n",
              "Shane Bieber               3        2.587359                          22.5\n",
              "German Marquez             2        2.004976                          15.0\n",
              "Kyle Freeland              2        1.755144                          15.0\n",
              "Sonny Gray                 3        1.903647                          22.5"
            ]
          },
          "metadata": {
            "tags": []
          },
          "execution_count": 193
        }
      ]
    },
    {
      "cell_type": "code",
      "metadata": {
        "id": "pRir1zA6YxsX",
        "colab_type": "code",
        "colab": {}
      },
      "source": [
        "pitching_df = pitching_df[pitching_df['Current Wins'] != 0]"
      ],
      "execution_count": 194,
      "outputs": []
    },
    {
      "cell_type": "code",
      "metadata": {
        "id": "dj8MD6HMaw_z",
        "colab_type": "code",
        "colab": {
          "base_uri": "https://localhost:8080/",
          "height": 431
        },
        "outputId": "84698695-af25-437e-eace-bc1fbe829abe"
      },
      "source": [
        "pitching_df.sort_values(by='Current Predicted Wins (EOS)', ascending=False)"
      ],
      "execution_count": 195,
      "outputs": [
        {
          "output_type": "execute_result",
          "data": {
            "text/html": [
              "<div>\n",
              "<style scoped>\n",
              "    .dataframe tbody tr th:only-of-type {\n",
              "        vertical-align: middle;\n",
              "    }\n",
              "\n",
              "    .dataframe tbody tr th {\n",
              "        vertical-align: top;\n",
              "    }\n",
              "\n",
              "    .dataframe thead th {\n",
              "        text-align: right;\n",
              "    }\n",
              "</style>\n",
              "<table border=\"1\" class=\"dataframe\">\n",
              "  <thead>\n",
              "    <tr style=\"text-align: right;\">\n",
              "      <th></th>\n",
              "      <th>Current Wins</th>\n",
              "      <th>Predicted Wins</th>\n",
              "      <th>Current Predicted Wins (EOS)</th>\n",
              "    </tr>\n",
              "    <tr>\n",
              "      <th>Player</th>\n",
              "      <th></th>\n",
              "      <th></th>\n",
              "      <th></th>\n",
              "    </tr>\n",
              "  </thead>\n",
              "  <tbody>\n",
              "    <tr>\n",
              "      <th>Dylan Bundy</th>\n",
              "      <td>3</td>\n",
              "      <td>2.073079</td>\n",
              "      <td>22.5</td>\n",
              "    </tr>\n",
              "    <tr>\n",
              "      <th>Gerrit Cole</th>\n",
              "      <td>3</td>\n",
              "      <td>1.469992</td>\n",
              "      <td>22.5</td>\n",
              "    </tr>\n",
              "    <tr>\n",
              "      <th>Sonny Gray</th>\n",
              "      <td>3</td>\n",
              "      <td>1.903647</td>\n",
              "      <td>22.5</td>\n",
              "    </tr>\n",
              "    <tr>\n",
              "      <th>Randy Dobnak</th>\n",
              "      <td>3</td>\n",
              "      <td>1.221867</td>\n",
              "      <td>22.5</td>\n",
              "    </tr>\n",
              "    <tr>\n",
              "      <th>Antonio Senzatela</th>\n",
              "      <td>3</td>\n",
              "      <td>1.161674</td>\n",
              "      <td>22.5</td>\n",
              "    </tr>\n",
              "    <tr>\n",
              "      <th>...</th>\n",
              "      <td>...</td>\n",
              "      <td>...</td>\n",
              "      <td>...</td>\n",
              "    </tr>\n",
              "    <tr>\n",
              "      <th>Jake Arrieta</th>\n",
              "      <td>1</td>\n",
              "      <td>0.368114</td>\n",
              "      <td>7.5</td>\n",
              "    </tr>\n",
              "    <tr>\n",
              "      <th>Anthony DeSclafani</th>\n",
              "      <td>1</td>\n",
              "      <td>0.526762</td>\n",
              "      <td>7.5</td>\n",
              "    </tr>\n",
              "    <tr>\n",
              "      <th>Jordan Lyles</th>\n",
              "      <td>1</td>\n",
              "      <td>0.425078</td>\n",
              "      <td>7.5</td>\n",
              "    </tr>\n",
              "    <tr>\n",
              "      <th>Tyler Alexander</th>\n",
              "      <td>1</td>\n",
              "      <td>0.760754</td>\n",
              "      <td>7.5</td>\n",
              "    </tr>\n",
              "    <tr>\n",
              "      <th>Foster Griffin</th>\n",
              "      <td>1</td>\n",
              "      <td>0.058749</td>\n",
              "      <td>7.5</td>\n",
              "    </tr>\n",
              "  </tbody>\n",
              "</table>\n",
              "<p>180 rows × 3 columns</p>\n",
              "</div>"
            ],
            "text/plain": [
              "                    Current Wins  Predicted Wins  Current Predicted Wins (EOS)\n",
              "Player                                                                        \n",
              "Dylan Bundy                    3        2.073079                          22.5\n",
              "Gerrit Cole                    3        1.469992                          22.5\n",
              "Sonny Gray                     3        1.903647                          22.5\n",
              "Randy Dobnak                   3        1.221867                          22.5\n",
              "Antonio Senzatela              3        1.161674                          22.5\n",
              "...                          ...             ...                           ...\n",
              "Jake Arrieta                   1        0.368114                           7.5\n",
              "Anthony DeSclafani             1        0.526762                           7.5\n",
              "Jordan Lyles                   1        0.425078                           7.5\n",
              "Tyler Alexander                1        0.760754                           7.5\n",
              "Foster Griffin                 1        0.058749                           7.5\n",
              "\n",
              "[180 rows x 3 columns]"
            ]
          },
          "metadata": {
            "tags": []
          },
          "execution_count": 195
        }
      ]
    },
    {
      "cell_type": "code",
      "metadata": {
        "id": "fqK8kRbIaylS",
        "colab_type": "code",
        "colab": {}
      },
      "source": [
        ""
      ],
      "execution_count": null,
      "outputs": []
    }
  ]
}