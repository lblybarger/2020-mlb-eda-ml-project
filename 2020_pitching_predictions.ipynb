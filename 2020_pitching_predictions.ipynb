{
  "nbformat": 4,
  "nbformat_minor": 0,
  "metadata": {
    "colab": {
      "name": "2020_pitching_predictions.ipynb",
      "provenance": [],
      "collapsed_sections": []
    },
    "kernelspec": {
      "name": "python3",
      "display_name": "Python 3"
    }
  },
  "cells": [
    {
      "cell_type": "code",
      "metadata": {
        "id": "I0QxkBlpX11m",
        "colab_type": "code",
        "colab": {}
      },
      "source": [
        "# Testing model on brand new data from 2020"
      ],
      "execution_count": 1,
      "outputs": []
    },
    {
      "cell_type": "code",
      "metadata": {
        "id": "k9qoJ1mdYEW6",
        "colab_type": "code",
        "colab": {}
      },
      "source": [
        "# Imports\n",
        "import pickle \n",
        "import pandas as pd\n",
        "import numpy as np\n",
        "\n",
        "from sklearn.linear_model import LinearRegression\n",
        "from sklearn.metrics import r2_score"
      ],
      "execution_count": 43,
      "outputs": []
    },
    {
      "cell_type": "code",
      "metadata": {
        "id": "VSCYN-u6YbgA",
        "colab_type": "code",
        "colab": {
          "base_uri": "https://localhost:8080/",
          "height": 228
        },
        "outputId": "952dd2de-6707-4805-aba2-d2321c06c8c3"
      },
      "source": [
        "#Read in new Data\n",
        "df = pd.read_csv('./mlb-pitching-2020.csv', index_col='Player')\n",
        "df.head()\n",
        "df = df.drop(['Team'], axis=1)\n",
        "df.head()"
      ],
      "execution_count": 41,
      "outputs": [
        {
          "output_type": "execute_result",
          "data": {
            "text/html": [
              "<div>\n",
              "<style scoped>\n",
              "    .dataframe tbody tr th:only-of-type {\n",
              "        vertical-align: middle;\n",
              "    }\n",
              "\n",
              "    .dataframe tbody tr th {\n",
              "        vertical-align: top;\n",
              "    }\n",
              "\n",
              "    .dataframe thead th {\n",
              "        text-align: right;\n",
              "    }\n",
              "</style>\n",
              "<table border=\"1\" class=\"dataframe\">\n",
              "  <thead>\n",
              "    <tr style=\"text-align: right;\">\n",
              "      <th></th>\n",
              "      <th>Age</th>\n",
              "      <th>G</th>\n",
              "      <th>GS</th>\n",
              "      <th>CG</th>\n",
              "      <th>SHO</th>\n",
              "      <th>IP</th>\n",
              "      <th>H</th>\n",
              "      <th>ER</th>\n",
              "      <th>K</th>\n",
              "      <th>BB</th>\n",
              "      <th>HR</th>\n",
              "      <th>W</th>\n",
              "      <th>L</th>\n",
              "      <th>SV</th>\n",
              "      <th>BS</th>\n",
              "      <th>HLD</th>\n",
              "      <th>ERA</th>\n",
              "      <th>WHIP</th>\n",
              "    </tr>\n",
              "    <tr>\n",
              "      <th>Player</th>\n",
              "      <th></th>\n",
              "      <th></th>\n",
              "      <th></th>\n",
              "      <th></th>\n",
              "      <th></th>\n",
              "      <th></th>\n",
              "      <th></th>\n",
              "      <th></th>\n",
              "      <th></th>\n",
              "      <th></th>\n",
              "      <th></th>\n",
              "      <th></th>\n",
              "      <th></th>\n",
              "      <th></th>\n",
              "      <th></th>\n",
              "      <th></th>\n",
              "      <th></th>\n",
              "      <th></th>\n",
              "    </tr>\n",
              "  </thead>\n",
              "  <tbody>\n",
              "    <tr>\n",
              "      <th>Dylan Bundy</th>\n",
              "      <td>27</td>\n",
              "      <td>4</td>\n",
              "      <td>4</td>\n",
              "      <td>1</td>\n",
              "      <td>0</td>\n",
              "      <td>28.2</td>\n",
              "      <td>15</td>\n",
              "      <td>5</td>\n",
              "      <td>35</td>\n",
              "      <td>3</td>\n",
              "      <td>2</td>\n",
              "      <td>3</td>\n",
              "      <td>1</td>\n",
              "      <td>0</td>\n",
              "      <td>0</td>\n",
              "      <td>0</td>\n",
              "      <td>1.57</td>\n",
              "      <td>0.63</td>\n",
              "    </tr>\n",
              "    <tr>\n",
              "      <th>Shane Bieber</th>\n",
              "      <td>25</td>\n",
              "      <td>4</td>\n",
              "      <td>4</td>\n",
              "      <td>0</td>\n",
              "      <td>0</td>\n",
              "      <td>27.2</td>\n",
              "      <td>16</td>\n",
              "      <td>5</td>\n",
              "      <td>43</td>\n",
              "      <td>5</td>\n",
              "      <td>4</td>\n",
              "      <td>3</td>\n",
              "      <td>0</td>\n",
              "      <td>0</td>\n",
              "      <td>0</td>\n",
              "      <td>0</td>\n",
              "      <td>1.63</td>\n",
              "      <td>0.76</td>\n",
              "    </tr>\n",
              "    <tr>\n",
              "      <th>German Marquez</th>\n",
              "      <td>25</td>\n",
              "      <td>4</td>\n",
              "      <td>4</td>\n",
              "      <td>0</td>\n",
              "      <td>0</td>\n",
              "      <td>26.0</td>\n",
              "      <td>18</td>\n",
              "      <td>6</td>\n",
              "      <td>27</td>\n",
              "      <td>6</td>\n",
              "      <td>2</td>\n",
              "      <td>2</td>\n",
              "      <td>2</td>\n",
              "      <td>0</td>\n",
              "      <td>0</td>\n",
              "      <td>0</td>\n",
              "      <td>2.08</td>\n",
              "      <td>0.92</td>\n",
              "    </tr>\n",
              "    <tr>\n",
              "      <th>Kyle Freeland</th>\n",
              "      <td>27</td>\n",
              "      <td>4</td>\n",
              "      <td>4</td>\n",
              "      <td>0</td>\n",
              "      <td>0</td>\n",
              "      <td>25.2</td>\n",
              "      <td>21</td>\n",
              "      <td>7</td>\n",
              "      <td>13</td>\n",
              "      <td>7</td>\n",
              "      <td>4</td>\n",
              "      <td>2</td>\n",
              "      <td>0</td>\n",
              "      <td>0</td>\n",
              "      <td>0</td>\n",
              "      <td>0</td>\n",
              "      <td>2.45</td>\n",
              "      <td>1.09</td>\n",
              "    </tr>\n",
              "    <tr>\n",
              "      <th>Sonny Gray</th>\n",
              "      <td>30</td>\n",
              "      <td>4</td>\n",
              "      <td>4</td>\n",
              "      <td>0</td>\n",
              "      <td>0</td>\n",
              "      <td>24.0</td>\n",
              "      <td>14</td>\n",
              "      <td>6</td>\n",
              "      <td>35</td>\n",
              "      <td>8</td>\n",
              "      <td>2</td>\n",
              "      <td>3</td>\n",
              "      <td>1</td>\n",
              "      <td>0</td>\n",
              "      <td>0</td>\n",
              "      <td>0</td>\n",
              "      <td>2.25</td>\n",
              "      <td>0.92</td>\n",
              "    </tr>\n",
              "  </tbody>\n",
              "</table>\n",
              "</div>"
            ],
            "text/plain": [
              "                Age  G  GS  CG  SHO    IP   H  ...  W  L  SV  BS  HLD   ERA  WHIP\n",
              "Player                                         ...                               \n",
              "Dylan Bundy      27  4   4   1    0  28.2  15  ...  3  1   0   0    0  1.57  0.63\n",
              "Shane Bieber     25  4   4   0    0  27.2  16  ...  3  0   0   0    0  1.63  0.76\n",
              "German Marquez   25  4   4   0    0  26.0  18  ...  2  2   0   0    0  2.08  0.92\n",
              "Kyle Freeland    27  4   4   0    0  25.2  21  ...  2  0   0   0    0  2.45  1.09\n",
              "Sonny Gray       30  4   4   0    0  24.0  14  ...  3  1   0   0    0  2.25  0.92\n",
              "\n",
              "[5 rows x 18 columns]"
            ]
          },
          "metadata": {
            "tags": []
          },
          "execution_count": 41
        }
      ]
    },
    {
      "cell_type": "code",
      "metadata": {
        "id": "SO9QpOw3Yini",
        "colab_type": "code",
        "colab": {}
      },
      "source": [
        "# List of Features that will help test the model\n",
        "features = ['GS', 'IP', 'H', 'ER', 'K', 'BB', 'HR', 'L']"
      ],
      "execution_count": 28,
      "outputs": []
    },
    {
      "cell_type": "code",
      "metadata": {
        "id": "6CoT_3mrYoeY",
        "colab_type": "code",
        "colab": {}
      },
      "source": [
        "X = df[features]\n",
        "y = df.W"
      ],
      "execution_count": 29,
      "outputs": []
    },
    {
      "cell_type": "code",
      "metadata": {
        "id": "3doQuNUEPW2I",
        "colab_type": "code",
        "colab": {
          "base_uri": "https://localhost:8080/",
          "height": 78
        },
        "outputId": "5052376d-7022-4577-bd1b-e6bee81bad58"
      },
      "source": [
        "X.head()\n",
        "\n",
        "#This is a single test from 2016 stats - Justin Verlander\n",
        "fake_test = pd.DataFrame({\n",
        "    'GS':34,\n",
        "    'IP':223.0,\n",
        "    'H':137,\n",
        "    'ER':64,\n",
        "    'K':300,\n",
        "    'BB':42,\n",
        "    'HR':36,\n",
        "    'L':6\n",
        "}, index=[0])\n",
        "fake_test.head()"
      ],
      "execution_count": 58,
      "outputs": [
        {
          "output_type": "execute_result",
          "data": {
            "text/html": [
              "<div>\n",
              "<style scoped>\n",
              "    .dataframe tbody tr th:only-of-type {\n",
              "        vertical-align: middle;\n",
              "    }\n",
              "\n",
              "    .dataframe tbody tr th {\n",
              "        vertical-align: top;\n",
              "    }\n",
              "\n",
              "    .dataframe thead th {\n",
              "        text-align: right;\n",
              "    }\n",
              "</style>\n",
              "<table border=\"1\" class=\"dataframe\">\n",
              "  <thead>\n",
              "    <tr style=\"text-align: right;\">\n",
              "      <th></th>\n",
              "      <th>GS</th>\n",
              "      <th>IP</th>\n",
              "      <th>H</th>\n",
              "      <th>ER</th>\n",
              "      <th>K</th>\n",
              "      <th>BB</th>\n",
              "      <th>HR</th>\n",
              "      <th>L</th>\n",
              "    </tr>\n",
              "  </thead>\n",
              "  <tbody>\n",
              "    <tr>\n",
              "      <th>0</th>\n",
              "      <td>34</td>\n",
              "      <td>223.0</td>\n",
              "      <td>137</td>\n",
              "      <td>64</td>\n",
              "      <td>300</td>\n",
              "      <td>42</td>\n",
              "      <td>36</td>\n",
              "      <td>6</td>\n",
              "    </tr>\n",
              "  </tbody>\n",
              "</table>\n",
              "</div>"
            ],
            "text/plain": [
              "   GS     IP    H  ER    K  BB  HR  L\n",
              "0  34  223.0  137  64  300  42  36  6"
            ]
          },
          "metadata": {
            "tags": []
          },
          "execution_count": 58
        }
      ]
    },
    {
      "cell_type": "code",
      "metadata": {
        "id": "bJRJETjkYuca",
        "colab_type": "code",
        "colab": {}
      },
      "source": [
        "# Load in Model\n",
        "loaded_model = pickle.load(open('./lr_pitching_model.sav', 'rb'))"
      ],
      "execution_count": 59,
      "outputs": []
    },
    {
      "cell_type": "code",
      "metadata": {
        "id": "4PBOmOzdZKgl",
        "colab_type": "code",
        "colab": {
          "base_uri": "https://localhost:8080/",
          "height": 35
        },
        "outputId": "aed53a4f-45d1-4f7b-dc78-1b55db36adb1"
      },
      "source": [
        "#Making predictions\n",
        "y_pred = loaded_model.predict(X)\n",
        "\n",
        "# Quick Predictions to see if our model is any good because the 2020 data is very sparse at the moment\n",
        "fake_pred = loaded_model.predict(fake_test)\n",
        "\n",
        "# He was accreddited 20 wins for the 2016 season\n",
        "print(f\"Accual wins: 20, Predicted Wins: {fake_pred}\")"
      ],
      "execution_count": 62,
      "outputs": [
        {
          "output_type": "stream",
          "text": [
            "Accual wins: 20, Predicted Wins: [20.44166667]\n"
          ],
          "name": "stdout"
        }
      ]
    },
    {
      "cell_type": "code",
      "metadata": {
        "id": "bP2M1xfLZUEv",
        "colab_type": "code",
        "colab": {
          "base_uri": "https://localhost:8080/",
          "height": 35
        },
        "outputId": "1c489b53-2701-443c-a19d-95150a041cea"
      },
      "source": [
        "# Getting r2 score\n",
        "r2_score(y, y_pred)"
      ],
      "execution_count": 34,
      "outputs": [
        {
          "output_type": "execute_result",
          "data": {
            "text/plain": [
              "0.311487140918428"
            ]
          },
          "metadata": {
            "tags": []
          },
          "execution_count": 34
        }
      ]
    },
    {
      "cell_type": "code",
      "metadata": {
        "id": "EyCMmwTRZVQx",
        "colab_type": "code",
        "colab": {}
      },
      "source": [
        "# Making new DataFrame with real era and predicted era\n",
        "df_tested = pd.DataFrame({'Real W':y, 'Predicted W':y_pred})"
      ],
      "execution_count": 35,
      "outputs": []
    },
    {
      "cell_type": "code",
      "metadata": {
        "id": "AQ2SaAmyZw-9",
        "colab_type": "code",
        "colab": {
          "base_uri": "https://localhost:8080/",
          "height": 228
        },
        "outputId": "160e2154-177c-476f-d80c-3ded6af4fe69"
      },
      "source": [
        "# Output new dataframe\n",
        "df_tested.head()"
      ],
      "execution_count": 38,
      "outputs": [
        {
          "output_type": "execute_result",
          "data": {
            "text/html": [
              "<div>\n",
              "<style scoped>\n",
              "    .dataframe tbody tr th:only-of-type {\n",
              "        vertical-align: middle;\n",
              "    }\n",
              "\n",
              "    .dataframe tbody tr th {\n",
              "        vertical-align: top;\n",
              "    }\n",
              "\n",
              "    .dataframe thead th {\n",
              "        text-align: right;\n",
              "    }\n",
              "</style>\n",
              "<table border=\"1\" class=\"dataframe\">\n",
              "  <thead>\n",
              "    <tr style=\"text-align: right;\">\n",
              "      <th></th>\n",
              "      <th>Real W</th>\n",
              "      <th>Predicted W</th>\n",
              "    </tr>\n",
              "    <tr>\n",
              "      <th>Player</th>\n",
              "      <th></th>\n",
              "      <th></th>\n",
              "    </tr>\n",
              "  </thead>\n",
              "  <tbody>\n",
              "    <tr>\n",
              "      <th>Dylan Bundy</th>\n",
              "      <td>3</td>\n",
              "      <td>2.360041</td>\n",
              "    </tr>\n",
              "    <tr>\n",
              "      <th>Shane Bieber</th>\n",
              "      <td>3</td>\n",
              "      <td>2.638328</td>\n",
              "    </tr>\n",
              "    <tr>\n",
              "      <th>German Marquez</th>\n",
              "      <td>2</td>\n",
              "      <td>1.788996</td>\n",
              "    </tr>\n",
              "    <tr>\n",
              "      <th>Kyle Freeland</th>\n",
              "      <td>2</td>\n",
              "      <td>1.426314</td>\n",
              "    </tr>\n",
              "    <tr>\n",
              "      <th>Sonny Gray</th>\n",
              "      <td>3</td>\n",
              "      <td>1.824228</td>\n",
              "    </tr>\n",
              "  </tbody>\n",
              "</table>\n",
              "</div>"
            ],
            "text/plain": [
              "                Real W  Predicted W\n",
              "Player                             \n",
              "Dylan Bundy          3     2.360041\n",
              "Shane Bieber         3     2.638328\n",
              "German Marquez       2     1.788996\n",
              "Kyle Freeland        2     1.426314\n",
              "Sonny Gray           3     1.824228"
            ]
          },
          "metadata": {
            "tags": []
          },
          "execution_count": 38
        }
      ]
    },
    {
      "cell_type": "code",
      "metadata": {
        "id": "Ctb9pKCtZyS1",
        "colab_type": "code",
        "colab": {}
      },
      "source": [
        "import matplotlib.pyplot as plt"
      ],
      "execution_count": 39,
      "outputs": []
    },
    {
      "cell_type": "code",
      "metadata": {
        "id": "zF3OkqIfaXD0",
        "colab_type": "code",
        "colab": {
          "base_uri": "https://localhost:8080/",
          "height": 607
        },
        "outputId": "e44a6598-2dd5-4e4b-f615-c6ef83b9130b"
      },
      "source": [
        "# Plot out real vs predicted\n",
        "plt.figure(figsize=(16,8))\n",
        "plt.title('Real vs Predicted Wins')\n",
        "plt.scatter(df_tested.index[:20], df_tested['Real W'][:20], color='r')\n",
        "plt.scatter(df_tested.index[:20], df_tested['Predicted W'][:20], color='blue')\n",
        "plt.ylabel('W')\n",
        "plt.xlabel('Player')\n",
        "plt.xticks(rotation=90)\n",
        "plt.legend(['Real W', 'Predicted W'])"
      ],
      "execution_count": 40,
      "outputs": [
        {
          "output_type": "execute_result",
          "data": {
            "text/plain": [
              "<matplotlib.legend.Legend at 0x7f2a895c99e8>"
            ]
          },
          "metadata": {
            "tags": []
          },
          "execution_count": 40
        },
        {
          "output_type": "display_data",
          "data": {
            "image/png": "[encoded data removed]",
            "text/plain": [
              "<Figure size 1152x576 with 1 Axes>"
            ]
          },
          "metadata": {
            "tags": [],
            "needs_background": "light"
          }
        }
      ]
    },
    {
      "cell_type": "code",
      "metadata": {
        "id": "4jb_Fie_as3N",
        "colab_type": "code",
        "colab": {}
      },
      "source": [
        "                                          "
      ],
      "execution_count": null,
      "outputs": []
    }
  ]
}